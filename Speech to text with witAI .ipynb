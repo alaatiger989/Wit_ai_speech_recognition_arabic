{
 "cells": [
  {
   "cell_type": "code",
   "execution_count": 1,
   "id": "621b2d97",
   "metadata": {},
   "outputs": [
    {
     "name": "stdout",
     "output_type": "stream",
     "text": [
      "Collecting pyaudio\n",
      "  Downloading PyAudio-0.2.14-cp310-cp310-win_amd64.whl.metadata (2.7 kB)\n",
      "Downloading PyAudio-0.2.14-cp310-cp310-win_amd64.whl (164 kB)\n",
      "   ---------------------------------------- 0.0/164.1 kB ? eta -:--:--\n",
      "   -- ------------------------------------- 10.2/164.1 kB ? eta -:--:--\n",
      "   --------- ----------------------------- 41.0/164.1 kB 495.5 kB/s eta 0:00:01\n",
      "   -------------------------- ----------- 112.6/164.1 kB 939.4 kB/s eta 0:00:01\n",
      "   ---------------------------------------- 164.1/164.1 kB 1.2 MB/s eta 0:00:00\n",
      "Installing collected packages: pyaudio\n",
      "Successfully installed pyaudio-0.2.14\n"
     ]
    }
   ],
   "source": [
    "!pip install pyaudio"
   ]
  },
  {
   "cell_type": "code",
   "execution_count": 2,
   "id": "a893603f",
   "metadata": {},
   "outputs": [
    {
     "name": "stdout",
     "output_type": "stream",
     "text": [
      "Collecting wit\n",
      "  Downloading wit-6.0.1.tar.gz (6.0 kB)\n",
      "  Preparing metadata (setup.py): started\n",
      "  Preparing metadata (setup.py): finished with status 'done'\n",
      "Requirement already satisfied: prompt_toolkit in c:\\users\\administrator\\anaconda3\\envs\\gpu_env\\lib\\site-packages (from wit) (3.0.36)\n",
      "Requirement already satisfied: requests>=0.8.8 in c:\\users\\administrator\\anaconda3\\envs\\gpu_env\\lib\\site-packages (from wit) (2.31.0)\n",
      "Requirement already satisfied: charset-normalizer<4,>=2 in c:\\users\\administrator\\anaconda3\\envs\\gpu_env\\lib\\site-packages (from requests>=0.8.8->wit) (2.0.4)\n",
      "Requirement already satisfied: idna<4,>=2.5 in c:\\users\\administrator\\anaconda3\\envs\\gpu_env\\lib\\site-packages (from requests>=0.8.8->wit) (2.10)\n",
      "Requirement already satisfied: urllib3<3,>=1.21.1 in c:\\users\\administrator\\anaconda3\\envs\\gpu_env\\lib\\site-packages (from requests>=0.8.8->wit) (1.26.18)\n",
      "Requirement already satisfied: certifi>=2017.4.17 in c:\\users\\administrator\\anaconda3\\envs\\gpu_env\\lib\\site-packages (from requests>=0.8.8->wit) (2023.11.17)\n",
      "Requirement already satisfied: wcwidth in c:\\users\\administrator\\anaconda3\\envs\\gpu_env\\lib\\site-packages (from prompt_toolkit->wit) (0.2.5)\n",
      "Building wheels for collected packages: wit\n",
      "  Building wheel for wit (setup.py): started\n",
      "  Building wheel for wit (setup.py): finished with status 'done'\n",
      "  Created wheel for wit: filename=wit-6.0.1-py3-none-any.whl size=5306 sha256=dccda20fdaabcb8c76012107228467b5627a52d47e5190e74617b0ad62f6d3a6\n",
      "  Stored in directory: c:\\users\\alaa ai\\appdata\\local\\pip\\cache\\wheels\\a9\\ea\\7d\\55ba15bb7612a6adea29f8085ad022e657c0ec8ba6ec6e7fc4\n",
      "Successfully built wit\n",
      "Installing collected packages: wit\n",
      "Successfully installed wit-6.0.1\n"
     ]
    }
   ],
   "source": [
    "!pip install wit"
   ]
  },
  {
   "cell_type": "code",
   "execution_count": 3,
   "id": "ffc776ca",
   "metadata": {},
   "outputs": [],
   "source": [
    "import pyaudio\n",
    "import wave\n",
    "\n",
    "\n",
    "def record_audio(RECORD_SECONDS, WAVE_OUTPUT_FILENAME):\n",
    "    #--------- SETTING PARAMS FOR OUR AUDIO FILE ------------#\n",
    "    FORMAT = pyaudio.paInt16    # format of wave\n",
    "    CHANNELS = 1                # no. of audio channels\n",
    "    RATE = 44100                # frame rate\n",
    "    CHUNK = 1024                # frames per audio sample\n",
    "    #--------------------------------------------------------#\n",
    "     \n",
    "    # creating PyAudio object\n",
    "    audio = pyaudio.PyAudio()\n",
    "     \n",
    "    # open a new stream for microphone\n",
    "    # It creates a PortAudio Stream Wrapper class object\n",
    "    stream = audio.open(format=FORMAT,channels=CHANNELS,\n",
    "                        rate=RATE, input=True,\n",
    "                        frames_per_buffer=CHUNK)\n",
    "\n",
    "\n",
    "    #----------------- start of recording -------------------#\n",
    "    print(\"Listening...\")\n",
    "\n",
    "    # list to save all audio frames\n",
    "    frames = []\n",
    "\n",
    "    for i in range(int(RATE / CHUNK * RECORD_SECONDS)):\n",
    "        # read audio stream from microphone\n",
    "        data = stream.read(CHUNK)\n",
    "        # append audio data to frames list\n",
    "        frames.append(data)\n",
    "\n",
    "    #------------------ end of recording --------------------#   \n",
    "    print(\"Finished recording.\")\n",
    "      \n",
    "    stream.stop_stream()    # stop the stream object\n",
    "    stream.close()          # close the stream object\n",
    "    audio.terminate()       # terminate PortAudio\n",
    "\n",
    "    #------------------ saving audio ------------------------#\n",
    "\n",
    "    # create wave file object\n",
    "    waveFile = wave.open(WAVE_OUTPUT_FILENAME, 'wb')\n",
    "\n",
    "    # settings for wave file object\n",
    "    waveFile.setnchannels(CHANNELS)\n",
    "    waveFile.setsampwidth(audio.get_sample_size(FORMAT))\n",
    "    waveFile.setframerate(RATE)\n",
    "    waveFile.writeframes(b''.join(frames))\n",
    "\n",
    "    # closing the wave file object\n",
    "    waveFile.close()\n",
    "\n",
    "\n",
    "def read_audio(WAVE_FILENAME):\n",
    "    # function to read audio(wav) file\n",
    "    with open(WAVE_FILENAME, 'rb') as f:\n",
    "        audio = f.read()\n",
    "    return audio"
   ]
  },
  {
   "cell_type": "code",
   "execution_count": 6,
   "id": "653af13a",
   "metadata": {},
   "outputs": [
    {
     "name": "stdout",
     "output_type": "stream",
     "text": [
      "Listening...\n",
      "Finished recording.\n",
      " \"ازيك يا باشا عامل ايه\",\n"
     ]
    }
   ],
   "source": [
    "import requests\n",
    "import json\n",
    "\n",
    "\n",
    "\n",
    "# Wit speech API endpoint\n",
    "API_ENDPOINT = 'https://api.wit.ai/speech'\n",
    "\n",
    "# Wit.ai api access token\n",
    "wit_access_token = 'S7JQYY2RA7ABGIFCOWGTUE6RDJSWHNF7'\n",
    "\n",
    "\n",
    "def RecognizeSpeech(AUDIO_FILENAME, num_seconds = 5):\n",
    "    \n",
    "    # record audio of specified length in specified audio file\n",
    "    record_audio(num_seconds, AUDIO_FILENAME)\n",
    "    \n",
    "    # reading audio\n",
    "    audio = read_audio(AUDIO_FILENAME)\n",
    "    \n",
    "    # defining headers for HTTP request\n",
    "    headers = {'authorization': 'Bearer ' + wit_access_token,\n",
    "               'Content-Type': 'audio/wav'}\n",
    "\n",
    "    # making an HTTP post request\n",
    "    resp = requests.post(API_ENDPOINT, headers = headers,\n",
    "                         data = audio)\n",
    "    \n",
    "    # converting response content to JSON format\n",
    "    \n",
    "    data = json.loads(json.dumps(resp.text))\n",
    "    data_text = str(data).splitlines()[-3].split(':')\n",
    "    print(data_text[1])\n",
    "#     print(data)\n",
    "    # get text from data\n",
    "#     text = data['text']\n",
    "#     print(\"\\nYou said: {}\".format(text))\n",
    "    # return the text\n",
    "    return \"\"\n",
    "\n",
    "\n",
    "if __name__ == \"__main__\":\n",
    "    text =  RecognizeSpeech('myspeech.wav', 4)\n",
    "    "
   ]
  },
  {
   "cell_type": "code",
   "execution_count": null,
   "id": "d60706b1",
   "metadata": {},
   "outputs": [],
   "source": []
  },
  {
   "cell_type": "code",
   "execution_count": null,
   "id": "5e005029",
   "metadata": {},
   "outputs": [],
   "source": []
  }
 ],
 "metadata": {
  "kernelspec": {
   "display_name": "Python 3 (ipykernel)",
   "language": "python",
   "name": "python3"
  },
  "language_info": {
   "codemirror_mode": {
    "name": "ipython",
    "version": 3
   },
   "file_extension": ".py",
   "mimetype": "text/x-python",
   "name": "python",
   "nbconvert_exporter": "python",
   "pygments_lexer": "ipython3",
   "version": "3.11.5"
  }
 },
 "nbformat": 4,
 "nbformat_minor": 5
}
